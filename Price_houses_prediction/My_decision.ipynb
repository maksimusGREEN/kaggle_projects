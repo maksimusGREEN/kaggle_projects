{
 "cells": [
  {
   "cell_type": "code",
   "execution_count": 1,
   "id": "7d0b6253",
   "metadata": {},
   "outputs": [],
   "source": [
    "# загрузим необходимые библиотеки\n",
    "\n",
    "import pandas as pd\n",
    "import numpy as np\n",
    "\n",
    "import matplotlib.pyplot as plt\n",
    "import seaborn as sns\n",
    "\n",
    "import xgboost as xgb\n",
    "\n",
    "import warnings\n",
    "warnings.simplefilter('ignore')\n",
    "\n",
    "%matplotlib inline\n",
    "\n",
    "pd.set_option('display.max_rows', 50)  # показывать больше строк\n",
    "pd.set_option('display.max_columns', 50)  # показывать больше колонок\n",
    "np.set_printoptions(suppress=True) # отключаем научную нотацию\n",
    "color = sns.color_palette()"
   ]
  },
  {
   "cell_type": "code",
   "execution_count": 66,
   "id": "57ce888e",
   "metadata": {},
   "outputs": [],
   "source": [
    "import os\n",
    "path = os.getcwd()"
   ]
  },
  {
   "cell_type": "code",
   "execution_count": 68,
   "id": "6aeacfd9",
   "metadata": {},
   "outputs": [
    {
     "data": {
      "text/plain": [
       "['HW_test_additional_data.csv',\n",
       " 'HW_test_main_data.csv',\n",
       " 'HW_train_additional_data.csv',\n",
       " 'HW_train_main_data.csv']"
      ]
     },
     "execution_count": 68,
     "metadata": {},
     "output_type": "execute_result"
    }
   ],
   "source": [
    "os.listdir(\n",
    "path + '\\data')"
   ]
  },
  {
   "cell_type": "code",
   "execution_count": 4,
   "id": "3ba2c428",
   "metadata": {},
   "outputs": [],
   "source": [
    "#Cчитаем данные в соответствующие датафреймы\n",
    "train_main_df = pd.read_csv('data/HW_train_main_data.csv')\n",
    "train_additional_df = pd.read_csv('data/HW_train_additional_data.csv')\n",
    "test_main_df = pd.read_csv('data/HW_test_main_data.csv')\n",
    "test_additional_df = pd.read_csv('data/HW_test_additional_data.csv')"
   ]
  },
  {
   "cell_type": "code",
   "execution_count": 5,
   "id": "50586e69",
   "metadata": {},
   "outputs": [
    {
     "data": {
      "text/plain": [
       "(29000, 13)"
      ]
     },
     "execution_count": 5,
     "metadata": {},
     "output_type": "execute_result"
    }
   ],
   "source": [
    "#Размер основного датасета:\n",
    "train_main_df.shape"
   ]
  },
  {
   "cell_type": "code",
   "execution_count": 6,
   "id": "ad920ef8",
   "metadata": {},
   "outputs": [
    {
     "data": {
      "text/html": [
       "<div>\n",
       "<style scoped>\n",
       "    .dataframe tbody tr th:only-of-type {\n",
       "        vertical-align: middle;\n",
       "    }\n",
       "\n",
       "    .dataframe tbody tr th {\n",
       "        vertical-align: top;\n",
       "    }\n",
       "\n",
       "    .dataframe thead th {\n",
       "        text-align: right;\n",
       "    }\n",
       "</style>\n",
       "<table border=\"1\" class=\"dataframe\">\n",
       "  <thead>\n",
       "    <tr style=\"text-align: right;\">\n",
       "      <th></th>\n",
       "      <th>id</th>\n",
       "      <th>timestamp</th>\n",
       "      <th>full_sq</th>\n",
       "      <th>life_sq</th>\n",
       "      <th>floor</th>\n",
       "      <th>max_floor</th>\n",
       "      <th>material</th>\n",
       "      <th>build_year</th>\n",
       "      <th>num_room</th>\n",
       "      <th>kitch_sq</th>\n",
       "      <th>apartment condition</th>\n",
       "      <th>sub_area</th>\n",
       "      <th>price</th>\n",
       "    </tr>\n",
       "  </thead>\n",
       "  <tbody>\n",
       "    <tr>\n",
       "      <th>0</th>\n",
       "      <td>30392</td>\n",
       "      <td>2014-12-30</td>\n",
       "      <td>60</td>\n",
       "      <td>36.0</td>\n",
       "      <td>6.0</td>\n",
       "      <td>9.0</td>\n",
       "      <td>1.0</td>\n",
       "      <td>1974.0</td>\n",
       "      <td>3.0</td>\n",
       "      <td>5.0</td>\n",
       "      <td>3.0</td>\n",
       "      <td>9</td>\n",
       "      <td>9711800.0</td>\n",
       "    </tr>\n",
       "    <tr>\n",
       "      <th>1</th>\n",
       "      <td>36540</td>\n",
       "      <td>2013-06-28</td>\n",
       "      <td>44</td>\n",
       "      <td>29.0</td>\n",
       "      <td>9.0</td>\n",
       "      <td>NaN</td>\n",
       "      <td>NaN</td>\n",
       "      <td>NaN</td>\n",
       "      <td>NaN</td>\n",
       "      <td>NaN</td>\n",
       "      <td>NaN</td>\n",
       "      <td>19</td>\n",
       "      <td>6643200.0</td>\n",
       "    </tr>\n",
       "    <tr>\n",
       "      <th>2</th>\n",
       "      <td>94669</td>\n",
       "      <td>2013-09-15</td>\n",
       "      <td>62</td>\n",
       "      <td>60.0</td>\n",
       "      <td>4.0</td>\n",
       "      <td>NaN</td>\n",
       "      <td>NaN</td>\n",
       "      <td>NaN</td>\n",
       "      <td>NaN</td>\n",
       "      <td>NaN</td>\n",
       "      <td>NaN</td>\n",
       "      <td>80</td>\n",
       "      <td>5698300.0</td>\n",
       "    </tr>\n",
       "    <tr>\n",
       "      <th>3</th>\n",
       "      <td>17531</td>\n",
       "      <td>2013-12-13</td>\n",
       "      <td>33</td>\n",
       "      <td>18.0</td>\n",
       "      <td>4.0</td>\n",
       "      <td>9.0</td>\n",
       "      <td>1.0</td>\n",
       "      <td>1970.0</td>\n",
       "      <td>1.0</td>\n",
       "      <td>6.0</td>\n",
       "      <td>2.0</td>\n",
       "      <td>15</td>\n",
       "      <td>5055000.0</td>\n",
       "    </tr>\n",
       "    <tr>\n",
       "      <th>4</th>\n",
       "      <td>32159</td>\n",
       "      <td>2014-02-13</td>\n",
       "      <td>37</td>\n",
       "      <td>14.0</td>\n",
       "      <td>1.0</td>\n",
       "      <td>17.0</td>\n",
       "      <td>1.0</td>\n",
       "      <td>1991.0</td>\n",
       "      <td>1.0</td>\n",
       "      <td>1.0</td>\n",
       "      <td>2.0</td>\n",
       "      <td>74</td>\n",
       "      <td>5425000.0</td>\n",
       "    </tr>\n",
       "  </tbody>\n",
       "</table>\n",
       "</div>"
      ],
      "text/plain": [
       "      id   timestamp  full_sq  life_sq  floor  max_floor  material  \\\n",
       "0  30392  2014-12-30       60     36.0    6.0        9.0       1.0   \n",
       "1  36540  2013-06-28       44     29.0    9.0        NaN       NaN   \n",
       "2  94669  2013-09-15       62     60.0    4.0        NaN       NaN   \n",
       "3  17531  2013-12-13       33     18.0    4.0        9.0       1.0   \n",
       "4  32159  2014-02-13       37     14.0    1.0       17.0       1.0   \n",
       "\n",
       "   build_year  num_room  kitch_sq  apartment condition  sub_area      price  \n",
       "0      1974.0       3.0       5.0                  3.0         9  9711800.0  \n",
       "1         NaN       NaN       NaN                  NaN        19  6643200.0  \n",
       "2         NaN       NaN       NaN                  NaN        80  5698300.0  \n",
       "3      1970.0       1.0       6.0                  2.0        15  5055000.0  \n",
       "4      1991.0       1.0       1.0                  2.0        74  5425000.0  "
      ]
     },
     "execution_count": 6,
     "metadata": {},
     "output_type": "execute_result"
    }
   ],
   "source": [
    "train_main_df.head()"
   ]
  },
  {
   "cell_type": "code",
   "execution_count": 7,
   "id": "15527087",
   "metadata": {},
   "outputs": [
    {
     "data": {
      "text/html": [
       "<div>\n",
       "<style scoped>\n",
       "    .dataframe tbody tr th:only-of-type {\n",
       "        vertical-align: middle;\n",
       "    }\n",
       "\n",
       "    .dataframe tbody tr th {\n",
       "        vertical-align: top;\n",
       "    }\n",
       "\n",
       "    .dataframe thead th {\n",
       "        text-align: right;\n",
       "    }\n",
       "</style>\n",
       "<table border=\"1\" class=\"dataframe\">\n",
       "  <thead>\n",
       "    <tr style=\"text-align: right;\">\n",
       "      <th></th>\n",
       "      <th>id</th>\n",
       "      <th>population</th>\n",
       "      <th>indust_part</th>\n",
       "      <th>preschool_facilities</th>\n",
       "      <th>school_facilities</th>\n",
       "      <th>hospital_beds_raion</th>\n",
       "      <th>healthcare_facilities</th>\n",
       "      <th>university_num</th>\n",
       "      <th>sport_objects_facilities</th>\n",
       "      <th>additional_education_facilities</th>\n",
       "      <th>culture_objects_facilities</th>\n",
       "      <th>shopping_centers_facilities</th>\n",
       "      <th>office_num</th>\n",
       "      <th>green_part</th>\n",
       "      <th>prom_part</th>\n",
       "      <th>cafe_count</th>\n",
       "      <th>church_facilities</th>\n",
       "      <th>mosque</th>\n",
       "      <th>leisure_facilities</th>\n",
       "    </tr>\n",
       "  </thead>\n",
       "  <tbody>\n",
       "    <tr>\n",
       "      <th>0</th>\n",
       "      <td>30392</td>\n",
       "      <td>155572</td>\n",
       "      <td>0.000070</td>\n",
       "      <td>5</td>\n",
       "      <td>5</td>\n",
       "      <td>240.0</td>\n",
       "      <td>1</td>\n",
       "      <td>0</td>\n",
       "      <td>7</td>\n",
       "      <td>3</td>\n",
       "      <td>0</td>\n",
       "      <td>16</td>\n",
       "      <td>1</td>\n",
       "      <td>2.86</td>\n",
       "      <td>0.00</td>\n",
       "      <td>0</td>\n",
       "      <td>0</td>\n",
       "      <td>0</td>\n",
       "      <td>0</td>\n",
       "    </tr>\n",
       "    <tr>\n",
       "      <th>1</th>\n",
       "      <td>36540</td>\n",
       "      <td>111874</td>\n",
       "      <td>0.089040</td>\n",
       "      <td>5</td>\n",
       "      <td>5</td>\n",
       "      <td>NaN</td>\n",
       "      <td>0</td>\n",
       "      <td>0</td>\n",
       "      <td>10</td>\n",
       "      <td>3</td>\n",
       "      <td>0</td>\n",
       "      <td>11</td>\n",
       "      <td>5</td>\n",
       "      <td>9.26</td>\n",
       "      <td>2.71</td>\n",
       "      <td>1</td>\n",
       "      <td>0</td>\n",
       "      <td>0</td>\n",
       "      <td>0</td>\n",
       "    </tr>\n",
       "    <tr>\n",
       "      <th>2</th>\n",
       "      <td>94669</td>\n",
       "      <td>129207</td>\n",
       "      <td>0.007720</td>\n",
       "      <td>6</td>\n",
       "      <td>6</td>\n",
       "      <td>NaN</td>\n",
       "      <td>0</td>\n",
       "      <td>0</td>\n",
       "      <td>4</td>\n",
       "      <td>2</td>\n",
       "      <td>0</td>\n",
       "      <td>4</td>\n",
       "      <td>2</td>\n",
       "      <td>13.80</td>\n",
       "      <td>0.00</td>\n",
       "      <td>4</td>\n",
       "      <td>0</td>\n",
       "      <td>0</td>\n",
       "      <td>0</td>\n",
       "    </tr>\n",
       "    <tr>\n",
       "      <th>3</th>\n",
       "      <td>17531</td>\n",
       "      <td>125354</td>\n",
       "      <td>0.265089</td>\n",
       "      <td>4</td>\n",
       "      <td>5</td>\n",
       "      <td>1937.0</td>\n",
       "      <td>3</td>\n",
       "      <td>0</td>\n",
       "      <td>6</td>\n",
       "      <td>4</td>\n",
       "      <td>0</td>\n",
       "      <td>2</td>\n",
       "      <td>0</td>\n",
       "      <td>7.46</td>\n",
       "      <td>0.00</td>\n",
       "      <td>1</td>\n",
       "      <td>0</td>\n",
       "      <td>0</td>\n",
       "      <td>0</td>\n",
       "    </tr>\n",
       "    <tr>\n",
       "      <th>4</th>\n",
       "      <td>32159</td>\n",
       "      <td>111023</td>\n",
       "      <td>0.025609</td>\n",
       "      <td>7</td>\n",
       "      <td>7</td>\n",
       "      <td>240.0</td>\n",
       "      <td>3</td>\n",
       "      <td>0</td>\n",
       "      <td>6</td>\n",
       "      <td>4</td>\n",
       "      <td>0</td>\n",
       "      <td>1</td>\n",
       "      <td>0</td>\n",
       "      <td>0.00</td>\n",
       "      <td>0.00</td>\n",
       "      <td>3</td>\n",
       "      <td>0</td>\n",
       "      <td>0</td>\n",
       "      <td>0</td>\n",
       "    </tr>\n",
       "  </tbody>\n",
       "</table>\n",
       "</div>"
      ],
      "text/plain": [
       "      id  population  indust_part  preschool_facilities  school_facilities  \\\n",
       "0  30392      155572     0.000070                     5                  5   \n",
       "1  36540      111874     0.089040                     5                  5   \n",
       "2  94669      129207     0.007720                     6                  6   \n",
       "3  17531      125354     0.265089                     4                  5   \n",
       "4  32159      111023     0.025609                     7                  7   \n",
       "\n",
       "   hospital_beds_raion  healthcare_facilities  university_num  \\\n",
       "0                240.0                      1               0   \n",
       "1                  NaN                      0               0   \n",
       "2                  NaN                      0               0   \n",
       "3               1937.0                      3               0   \n",
       "4                240.0                      3               0   \n",
       "\n",
       "   sport_objects_facilities  additional_education_facilities  \\\n",
       "0                         7                                3   \n",
       "1                        10                                3   \n",
       "2                         4                                2   \n",
       "3                         6                                4   \n",
       "4                         6                                4   \n",
       "\n",
       "   culture_objects_facilities  shopping_centers_facilities  office_num  \\\n",
       "0                           0                           16           1   \n",
       "1                           0                           11           5   \n",
       "2                           0                            4           2   \n",
       "3                           0                            2           0   \n",
       "4                           0                            1           0   \n",
       "\n",
       "   green_part  prom_part  cafe_count  church_facilities  mosque  \\\n",
       "0        2.86       0.00           0                  0       0   \n",
       "1        9.26       2.71           1                  0       0   \n",
       "2       13.80       0.00           4                  0       0   \n",
       "3        7.46       0.00           1                  0       0   \n",
       "4        0.00       0.00           3                  0       0   \n",
       "\n",
       "   leisure_facilities  \n",
       "0                   0  \n",
       "1                   0  \n",
       "2                   0  \n",
       "3                   0  \n",
       "4                   0  "
      ]
     },
     "execution_count": 7,
     "metadata": {},
     "output_type": "execute_result"
    }
   ],
   "source": [
    "train_additional_df.head()"
   ]
  },
  {
   "cell_type": "code",
   "execution_count": 8,
   "id": "8e58daaf",
   "metadata": {},
   "outputs": [],
   "source": [
    "#Объединяем данные в один датасет:\n",
    "train_df = train_main_df.merge(train_additional_df, how='left', on='id')\n",
    "test_df = test_main_df.merge(test_additional_df, how='left', on='id')"
   ]
  },
  {
   "cell_type": "code",
   "execution_count": 9,
   "id": "496bd4c5",
   "metadata": {},
   "outputs": [
    {
     "name": "stdout",
     "output_type": "stream",
     "text": [
      "<class 'pandas.core.frame.DataFrame'>\n",
      "Int64Index: 29000 entries, 0 to 28999\n",
      "Data columns (total 31 columns):\n",
      " #   Column                           Non-Null Count  Dtype  \n",
      "---  ------                           --------------  -----  \n",
      " 0   id                               29000 non-null  int64  \n",
      " 1   timestamp                        29000 non-null  object \n",
      " 2   full_sq                          29000 non-null  int64  \n",
      " 3   life_sq                          22935 non-null  float64\n",
      " 4   floor                            28843 non-null  float64\n",
      " 5   max_floor                        19887 non-null  float64\n",
      " 6   material                         19887 non-null  float64\n",
      " 7   build_year                       16059 non-null  float64\n",
      " 8   num_room                         19887 non-null  float64\n",
      " 9   kitch_sq                         19887 non-null  float64\n",
      " 10  apartment condition              16088 non-null  float64\n",
      " 11  sub_area                         29000 non-null  int64  \n",
      " 12  price                            29000 non-null  float64\n",
      " 13  population                       29000 non-null  int64  \n",
      " 14  indust_part                      29000 non-null  float64\n",
      " 15  preschool_facilities             29000 non-null  int64  \n",
      " 16  school_facilities                29000 non-null  int64  \n",
      " 17  hospital_beds_raion              15253 non-null  float64\n",
      " 18  healthcare_facilities            29000 non-null  int64  \n",
      " 19  university_num                   29000 non-null  int64  \n",
      " 20  sport_objects_facilities         29000 non-null  int64  \n",
      " 21  additional_education_facilities  29000 non-null  int64  \n",
      " 22  culture_objects_facilities       29000 non-null  int64  \n",
      " 23  shopping_centers_facilities      29000 non-null  int64  \n",
      " 24  office_num                       29000 non-null  int64  \n",
      " 25  green_part                       29000 non-null  float64\n",
      " 26  prom_part                        29000 non-null  float64\n",
      " 27  cafe_count                       29000 non-null  int64  \n",
      " 28  church_facilities                29000 non-null  int64  \n",
      " 29  mosque                           29000 non-null  int64  \n",
      " 30  leisure_facilities               29000 non-null  int64  \n",
      "dtypes: float64(13), int64(17), object(1)\n",
      "memory usage: 7.1+ MB\n"
     ]
    }
   ],
   "source": [
    "train_df.info()"
   ]
  },
  {
   "cell_type": "code",
   "execution_count": 10,
   "id": "3ae59126",
   "metadata": {},
   "outputs": [],
   "source": [
    "#Поправим тип столбца с датами:\n",
    "train_df['timestamp'] = pd.to_datetime(train_df['timestamp'])\n",
    "test_df['timestamp'] = pd.to_datetime(test_df['timestamp'])"
   ]
  },
  {
   "cell_type": "code",
   "execution_count": 11,
   "id": "4f265a8e",
   "metadata": {},
   "outputs": [
    {
     "data": {
      "text/plain": [
       "count                   29000\n",
       "unique                   1408\n",
       "top       2014-12-27 00:00:00\n",
       "freq                       76\n",
       "first     2011-09-06 00:00:00\n",
       "last      2015-07-31 00:00:00\n",
       "Name: timestamp, dtype: object"
      ]
     },
     "execution_count": 11,
     "metadata": {},
     "output_type": "execute_result"
    }
   ],
   "source": [
    "#Посмотрим за какой период данные:\n",
    "train_df.timestamp.describe()"
   ]
  },
  {
   "cell_type": "code",
   "execution_count": 12,
   "id": "73ec8529",
   "metadata": {},
   "outputs": [
    {
     "data": {
      "image/png": "[encoded data removed]",
      "text/plain": [
       "<Figure size 1152x432 with 2 Axes>"
      ]
     },
     "metadata": {
      "needs_background": "light"
     },
     "output_type": "display_data"
    }
   ],
   "source": [
    "#Посмотрим на распределение целевой переменной:\n",
    "fig, axes = plt.subplots(1,2, figsize=(16,6))\n",
    "sns.distplot(train_df.price.values, bins=50, kde=True, ax=axes[0])\n",
    "sns.boxplot(train_df.price.values, orient='h', ax=axes[1])\n",
    "plt.xlabel('price', fontsize=12)\n",
    "plt.show()\n",
    "\n"
   ]
  },
  {
   "cell_type": "markdown",
   "id": "a7fa1445",
   "metadata": {},
   "source": [
    "### Промежуточные выводы  \n",
    "Распределение скошено вправо с длинным хвостом. Другими словами множество редких квартир в высоком ценовом диапазоне.\n",
    "Есть смысл заменить длинный хвост на верхний квартиль, чтобы не портить веса модели выбросами."
   ]
  },
  {
   "cell_type": "code",
   "execution_count": 13,
   "id": "5bf21fbc",
   "metadata": {},
   "outputs": [
    {
     "data": {
      "image/png": "[encoded data removed]",
      "text/plain": [
       "<Figure size 864x576 with 1 Axes>"
      ]
     },
     "metadata": {
      "needs_background": "light"
     },
     "output_type": "display_data"
    }
   ],
   "source": [
    "# Рассмотрим влияние различных параметров на цену:\n",
    "plt.figure(figsize=(12, 8))\n",
    "sns.boxplot(x='num_room', y='price', data=train_df)\n",
    "plt.ylabel('price', fontsize=12)\n",
    "plt.xlabel('num_room', fontsize=12)\n",
    "plt.xticks(rotation='vertical')\n",
    "plt.show()"
   ]
  },
  {
   "cell_type": "markdown",
   "id": "18cde970",
   "metadata": {},
   "source": [
    "### Промежуточные выводы:  \n",
    "В данных есть проблемные места: квартиры с 0 комнат и дешевые квартиры с большим количеством комнат.  \n",
    "Эти строки стоит рассмотреть подробнее, возможно занулить значения."
   ]
  },
  {
   "cell_type": "code",
   "execution_count": 14,
   "id": "2212f7c7",
   "metadata": {},
   "outputs": [
    {
     "data": {
      "image/png": "[encoded data removed]",
      "text/plain": [
       "<Figure size 1440x576 with 1 Axes>"
      ]
     },
     "metadata": {
      "needs_background": "light"
     },
     "output_type": "display_data"
    }
   ],
   "source": [
    "# Как влияет количество пропусков в строке на цену:\n",
    "train_df['null_count'] = train_df.isnull().sum(axis=1)\n",
    "test_df['null_count'] = test_df.isnull().sum(axis=1)\n",
    "\n",
    "\n",
    "plt.figure(figsize=(20, 8))\n",
    "sns.pointplot(x='null_count', y='price', data=train_df)\n",
    "plt.ylabel('price', fontsize=12)\n",
    "plt.xlabel('null_count', fontsize=12)\n",
    "plt.xticks(rotation='vertical')\n",
    "plt.show()"
   ]
  },
  {
   "cell_type": "code",
   "execution_count": 15,
   "id": "77a2f776",
   "metadata": {},
   "outputs": [
    {
     "data": {
      "image/png": "[encoded data removed]",
      "text/plain": [
       "<Figure size 864x576 with 1 Axes>"
      ]
     },
     "metadata": {
      "needs_background": "light"
     },
     "output_type": "display_data"
    }
   ],
   "source": [
    "#Как влияет этажность здания на цену:\n",
    "plt.figure(figsize=(12,8))\n",
    "sns.boxplot(x=\"max_floor\", y=\"price\", data=train_df)\n",
    "plt.ylabel('Median Price', fontsize=12)\n",
    "plt.xlabel('Max Floor number', fontsize=12)\n",
    "plt.xticks(rotation='vertical')\n",
    "plt.show()"
   ]
  },
  {
   "cell_type": "markdown",
   "id": "5f0d30a4",
   "metadata": {},
   "source": [
    "### Промежуточные выводы:  \n",
    "Условно можно разделить на группы: до 5 этажа включительно - дешевые пятиэтажки, от 6 до 25 этажа, от 26 до 32 этажа.  \n",
    "Выброс для 4-этажного здания - максимальная цена."
   ]
  },
  {
   "cell_type": "code",
   "execution_count": 16,
   "id": "27e03f7f",
   "metadata": {},
   "outputs": [
    {
     "data": {
      "image/png": "[encoded data removed]",
      "text/plain": [
       "<Figure size 864x576 with 1 Axes>"
      ]
     },
     "metadata": {
      "needs_background": "light"
     },
     "output_type": "display_data"
    }
   ],
   "source": [
    "#Посмотрим на распределение площади до 1000:\n",
    "plt.figure(figsize=(12,8))\n",
    "sns.histplot(x=\"full_sq\", data=train_df.query('full_sq<1000'), bins=20)\n",
    "plt.ylabel('Median Price', fontsize=12)\n",
    "plt.xlabel('Max Floor number', fontsize=12)\n",
    "plt.xticks(rotation='vertical')\n",
    "plt.show()"
   ]
  },
  {
   "cell_type": "markdown",
   "id": "d63727b4",
   "metadata": {},
   "source": [
    "### Промежуточные выводы:  \n",
    "Основная масса в пределах 100 кв. метров, имеется множество выбросов. Есть смысл бинеризовать признак."
   ]
  },
  {
   "cell_type": "code",
   "execution_count": 17,
   "id": "d04c9773",
   "metadata": {},
   "outputs": [
    {
     "data": {
      "image/png": "[encoded data removed]",
      "text/plain": [
       "<Figure size 864x576 with 1 Axes>"
      ]
     },
     "metadata": {
      "needs_background": "light"
     },
     "output_type": "display_data"
    }
   ],
   "source": [
    "#Посмотрим на зависимость цены от количества окружающих культурных объектов:\n",
    "\n",
    "plt.figure(figsize=(12, 8))\n",
    "sns.boxplot(x='culture_objects_facilities', y='price', data=train_df)\n",
    "plt.ylabel('price', fontsize=12)\n",
    "plt.xlabel('cultural_objects_facilities', fontsize=12)\n",
    "plt.xticks(rotation='vertical')\n",
    "plt.show()"
   ]
  },
  {
   "cell_type": "markdown",
   "id": "99f1282e",
   "metadata": {},
   "source": [
    "### Промежуточные выводы:  \n",
    "Вероятно 10 культурных объектов это опечатка, скорее всего имелось в виду 0 (судя по графику)."
   ]
  },
  {
   "cell_type": "code",
   "execution_count": 18,
   "id": "cf29eabf",
   "metadata": {},
   "outputs": [
    {
     "data": {
      "image/png": "[encoded data removed]",
      "text/plain": [
       "<Figure size 1008x576 with 1 Axes>"
      ]
     },
     "metadata": {
      "needs_background": "light"
     },
     "output_type": "display_data"
    }
   ],
   "source": [
    "#Считаем процент пропусков:\n",
    "per_nans = pd.DataFrame(1-train_df.count()/train_df.shape[0]).reset_index().rename({0:'percent'}, \\\n",
    "                                                axis=1).sort_values('percent', ascending=False).query('percent>0')\n",
    "#Строим график относительного количества пропущенных значений:\n",
    "fig, ax = plt.subplots(figsize = (14, 8))\n",
    "bar_plot = sns.barplot(x='percent', y='index', data=per_nans, alpha=0.8, ci=None)\n",
    "for ytick in bar_plot.get_yticks():\n",
    "        bar_plot.text(per_nans.iloc[ytick][1]+0.03, ytick+0.15, str(round(per_nans.iloc[ytick][1]*100,2))+' %', \n",
    "                    horizontalalignment='center',size=15, color='black',weight='semibold')\n",
    "plt.title('Относительное количество пропусков')\n",
    "plt.ylabel('')\n",
    "plt.xlabel('Percent', fontsize=12)\n",
    "plt.xlim((0, 0.6))\n",
    "plt.show()\n"
   ]
  },
  {
   "cell_type": "markdown",
   "id": "26674cff",
   "metadata": {},
   "source": [
    "### Промежуточные выводы:  \n",
    "Признаков с пропусками относительно немного, первоначально попробуем не заполнять/заполнить константой. Потом, если нужно будет поэксперементируем с имплементацией."
   ]
  },
  {
   "cell_type": "markdown",
   "id": "e87d0e32",
   "metadata": {},
   "source": [
    "## Data preprocessing"
   ]
  },
  {
   "cell_type": "markdown",
   "id": "de9f5fbd",
   "metadata": {},
   "source": [
    "### Cleaning data"
   ]
  },
  {
   "cell_type": "code",
   "execution_count": 19,
   "id": "567e1a4a",
   "metadata": {},
   "outputs": [],
   "source": [
    "def IQR_outlier(df: pd.DataFrame, column: object, verbose: bool=True) -> tuple:\n",
    "    '''\n",
    "    Функция для отображения границ межквартильного размаха\n",
    "    '''\n",
    "    perc25 = df[column].quantile(0.25)\n",
    "    perc75 = df[column].quantile(0.75)\n",
    "    IQR = perc75 - perc25\n",
    "    low = perc25 - 1.5*IQR\n",
    "    high = perc75 + 1.5*IQR\n",
    "    if verbose:\n",
    "        print('25-й перцентиль: {},'.format(perc25)[:-1], '75-й перцентиль: {},'.format(perc75),\n",
    "            \"IQR: {}, \".format(IQR), \"Границы выбросов: [{f}, {l}].\".format(f=low, l=high))\n",
    "    return (low, high)"
   ]
  },
  {
   "cell_type": "code",
   "execution_count": 20,
   "id": "7fe1d495",
   "metadata": {},
   "outputs": [],
   "source": [
    "#filtering extremal costs from target:\n",
    "upper_limit = np.percentile(train_df['price'], 99)\n",
    "lower_limit = np.percentile(train_df['price'], 1)\n",
    "\n",
    "train_df.loc[(train_df['price'] > upper_limit), 'price'] = upper_limit\n",
    "train_df.loc[(train_df['price'] < lower_limit), 'price'] = lower_limit"
   ]
  },
  {
   "cell_type": "code",
   "execution_count": 21,
   "id": "563fd775",
   "metadata": {},
   "outputs": [],
   "source": [
    "#brings error down a lot by removing extreme price per sqm:\n",
    "train_df.loc[train_df.full_sq == 0, 'full_sq'] = 50\n",
    "train_df = train_df[train_df.price/train_df.full_sq <= 600000]\n",
    "train_df = train_df[train_df.price/train_df.full_sq >= 10000]\n",
    "\n",
    "test_df.loc[test_df.full_sq == 0, 'full_sq'] = 50"
   ]
  },
  {
   "cell_type": "code",
   "execution_count": 33,
   "id": "ae126690",
   "metadata": {},
   "outputs": [],
   "source": [
    "#mistakes in life_sq:\n",
    "bad_index = train_df[train_df.life_sq > train_df.full_sq].index\n",
    "train_df.loc[bad_index, \"life_sq\"] = np.NaN\n",
    "bad_index = train_df[train_df.life_sq < 5].index\n",
    "train_df.loc[bad_index, \"life_sq\"] = np.NaN\n",
    "\n",
    "bad_index = test_df[test_df.life_sq > test_df.full_sq].index\n",
    "test_df.loc[bad_index, \"life_sq\"] = np.NaN\n",
    "bad_index = test_df[test_df.life_sq < 5].index\n",
    "test_df.loc[bad_index, \"life_sq\"] = np.NaN\n",
    "\n",
    "#mistakes in full_sq:\n",
    "bad_index = train_df[train_df.full_sq < 5].index\n",
    "train_df.loc[bad_index, \"full_sq\"] = np.NaN\n",
    "\n",
    "bad_index = test_df[test_df.full_sq < 5].index\n",
    "test_df.loc[bad_index, \"full_sq\"] = np.NaN\n",
    "\n",
    "#In sq has been detected date values:\n",
    "kitch_is_build_year = train_df[train_df.kitch_sq.isin([1970, 1974, 2013, 2014])].index\n",
    "train_df.loc[kitch_is_build_year, \"build_year\"] = train_df.loc[kitch_is_build_year, \"kitch_sq\"]\n",
    "\n",
    "#fix invalid values from kitch_sq:\n",
    "bad_index = train_df[train_df.kitch_sq >= train_df.life_sq].index\n",
    "train_df.loc[bad_index, \"kitch_sq\"] = np.NaN\n",
    "bad_index = train_df[(train_df.kitch_sq == 0).values + (train_df.kitch_sq == 1).values].index\n",
    "train_df.loc[bad_index, \"kitch_sq\"] = np.NaN\n",
    "\n",
    "bad_index = test_df[test_df.kitch_sq >= test_df.life_sq].index\n",
    "test_df.loc[bad_index, \"kitch_sq\"] = np.NaN\n",
    "bad_index = test_df[(test_df.kitch_sq == 0).values + (test_df.kitch_sq == 1).values].index\n",
    "test_df.loc[bad_index, \"kitch_sq\"] = np.NaN\n",
    "\n",
    "#fix invalid values in full_sq:\n",
    "bad_index = train_df[(train_df.full_sq > 210) & (train_df.life_sq / train_df.full_sq < 0.3)].index\n",
    "train_df.loc[bad_index, \"full_sq\"] = np.NaN\n",
    "\n",
    "bad_index = test_df[(train_df.full_sq > 210) & (test_df.life_sq / test_df.full_sq < 0.3)].index\n",
    "test_df.loc[bad_index, \"full_sq\"] = np.NaN\n",
    "\n",
    "#fix invalid values in life_sq:\n",
    "bad_index = train_df[train_df.life_sq > 300].index\n",
    "train_df.loc[bad_index, [\"life_sq\", \"full_sq\"]] = np.NaN\n",
    "\n",
    "bad_index = test_df[test_df.life_sq > 300].index\n",
    "test_df.loc[bad_index, [\"life_sq\", \"full_sq\"]] = np.NaN\n",
    "\n",
    "#fix invalid values in build_year:\n",
    "bad_index = train_df[(train_df.build_year < 1500) & (train_df.build_year > 2016)].index\n",
    "train_df.loc[bad_index, \"build_year\"] = np.NaN\n",
    "\n",
    "bad_index = test_df[(test_df.build_year < 1500) & (test_df.build_year > 2016)].index\n",
    "test_df.loc[bad_index, \"build_year\"] = np.NaN\n",
    "\n",
    "#fix invalid room_values:\n",
    "bad_index = train_df[train_df.num_room == 0].index\n",
    "train_df.loc[bad_index, \"num_room\"] = np.NaN\n",
    "bad_index = train_df[train_df.num_room.isin([10,19,17])].index\n",
    "train_df.loc[bad_index, \"num_room\"] = np.NaN\n",
    "\n",
    "#fix invalid floor of houses:\n",
    "bad_index = train_df[(train_df.floor == 0) & (train_df.max_floor == 0)].index\n",
    "train_df.loc[bad_index, [\"max_floor\", \"floor\"]] = np.NaN\n",
    "bad_index = train_df[train_df.floor == 0].index\n",
    "train_df.loc[bad_index, \"floor\"] = np.NaN\n",
    "bad_index = train_df[train_df.max_floor == 0].index\n",
    "train_df.loc[bad_index, \"max_floor\"] = np.NaN\n",
    "bad_index = train_df[train_df.floor > train_df.max_floor].index\n",
    "train_df.loc[bad_index, \"max_floor\"] = np.NaN\n",
    "\n",
    "bad_index = test_df[(train_df.floor == 0) & (test_df.max_floor == 0)].index\n",
    "test_df.loc[bad_index, [\"max_floor\", \"floor\"]] = np.NaN\n",
    "bad_index = test_df[test_df.floor == 0].index\n",
    "test_df.loc[bad_index, \"floor\"] = np.NaN\n",
    "bad_index = test_df[test_df.max_floor == 0].index\n",
    "test_df.loc[bad_index, \"max_floor\"] = np.NaN\n",
    "bad_index = test_df[test_df.floor > test_df.max_floor].index\n",
    "test_df.loc[bad_index, \"max_floor\"] = np.NaN\n",
    "\n",
    "#fix invalid build_year:\n",
    "train_df.build_year = train_df.build_year.replace(20052009, 2009)\n",
    "bad_index = train_df[(train_df.build_year <=950) | (train_df.build_year >= 2020)].index\n",
    "train_df.loc[bad_index, \"build_year\"] = np.NaN\n",
    "\n",
    "bad_index = test_df[(test_df.build_year <= 950) | (test_df.build_year >= 2020)].index\n",
    "test_df.loc[bad_index, \"build_year\"] = np.NaN"
   ]
  },
  {
   "cell_type": "code",
   "execution_count": 34,
   "id": "c5954450",
   "metadata": {},
   "outputs": [
    {
     "data": {
      "text/plain": [
       "array([1974.,   nan, 1970., 1991., 2014., 1997., 1971., 1992., 2002.,\n",
       "       2008., 1963., 1977., 1964., 2001., 1926., 1979., 1969., 1993.,\n",
       "       2003., 1975., 1989., 2015., 1998., 1956., 2016., 1983., 1973.,\n",
       "       1966., 1980., 2009., 2010., 1994., 2013., 1962., 1958., 1981.,\n",
       "       1999., 2005., 1959., 2006., 1987., 1961., 1967., 1957., 1976.,\n",
       "       1984., 1965., 1982., 1954., 1995., 1990., 2011., 2000., 1912.,\n",
       "       1986., 1931., 1996., 1917., 2012., 1932., 2004., 2007., 1968.,\n",
       "       1988., 1972., 1951., 1978., 2017., 1960., 1955., 1940., 1952.,\n",
       "       1928., 1937., 1934., 1985., 1915., 1936., 1947., 1935., 1953.,\n",
       "       1927., 1939., 1910., 1930., 1943., 1929., 1914., 1890., 1907.,\n",
       "       1950., 1949., 1938., 1920., 1946., 1924., 1933., 1906., 1896.,\n",
       "       1904., 2018., 1876., 1895., 1925., 1900., 1860., 1948., 1911.,\n",
       "       1941., 1691., 1886.])"
      ]
     },
     "execution_count": 34,
     "metadata": {},
     "output_type": "execute_result"
    }
   ],
   "source": [
    "train_df.build_year.unique()"
   ]
  },
  {
   "cell_type": "markdown",
   "id": "eca5034e",
   "metadata": {},
   "source": [
    "### Feature engenering"
   ]
  },
  {
   "cell_type": "code",
   "execution_count": 35,
   "id": "57a38699",
   "metadata": {},
   "outputs": [],
   "source": [
    "#Добавим дополнительные столбцы на основе имеющейся даты:\n",
    "\n",
    "# get year\n",
    "train_df['year'] = train_df.timestamp.dt.year\n",
    "test_df['year'] = test_df.timestamp.dt.year\n",
    "\n",
    "# get month of year\n",
    "train_df['month'] = train_df.timestamp.dt.month\n",
    "test_df['month'] = test_df.timestamp.dt.month\n",
    "\n",
    "# get day of week\n",
    "train_df['week_of_year'] = train_df.timestamp.dt.weekofyear\n",
    "test_df['week_of_year'] = test_df.timestamp.dt.weekofyear\n",
    "\n",
    "# get week of the year\n",
    "train_df['day_of_week'] = train_df.timestamp.dt.weekday\n",
    "test_df['day_of_week'] = test_df.timestamp.dt.weekday\n",
    "\n",
    "# создадим столбец для месяца года:\n",
    "train_df['year_month'] = (train_df.timestamp.dt.month + train_df.timestamp.dt.year * 100)\n",
    "train_df['year_week'] = (train_df.timestamp.dt.weekofyear + train_df.timestamp.dt.year * 100)\n",
    "\n",
    "# создадим столбец для месяца года:\n",
    "test_df['year_month'] = (test_df.timestamp.dt.month + test_df.timestamp.dt.year * 100)\n",
    "test_df['year_week'] = (test_df.timestamp.dt.weekofyear + test_df.timestamp.dt.year * 100)\n"
   ]
  },
  {
   "cell_type": "code",
   "execution_count": 36,
   "id": "d919a21b",
   "metadata": {},
   "outputs": [],
   "source": [
    "# Биниризуем полную площадь квартиры:\n",
    "bins = [0, 30, 40, 50, 60, 70, 80, 90, 100, 200, 5326]\n",
    "train_df['full_sq_bins'] = np.searchsorted(bins, train_df.full_sq.values)\n",
    "\n",
    "bins = [0, 30, 40, 50, 60, 70, 80, 90, 100, 200, 5326]\n",
    "test_df['full_sq_bins'] = np.searchsorted(bins, test_df.full_sq.values)"
   ]
  },
  {
   "cell_type": "code",
   "execution_count": 37,
   "id": "f9805c31",
   "metadata": {},
   "outputs": [],
   "source": [
    "# Добавим количество объектов по временным меткам:\n",
    "\n",
    "# Add month-year\n",
    "month_year_cnt_map = train_df.year_month.value_counts().to_dict()\n",
    "train_df['month_year_cnt'] = train_df.year_month.map(month_year_cnt_map)\n",
    "\n",
    "month_year_cnt_map = test_df.year_month.value_counts().to_dict()\n",
    "test_df['month_year_cnt'] = test_df.year_month.map(month_year_cnt_map)\n",
    "\n",
    "# Add week-year count\n",
    "week_year_cnt_map = test_df.year_week.value_counts().to_dict()\n",
    "test_df['week_year_cnt'] = test_df.year_week.map(week_year_cnt_map)\n",
    "\n",
    "week_year_cnt_map = test_df.year_week.value_counts().to_dict()\n",
    "test_df['week_year_cnt'] = test_df.year_week.map(week_year_cnt_map)"
   ]
  },
  {
   "cell_type": "code",
   "execution_count": 38,
   "id": "36d32ea6",
   "metadata": {},
   "outputs": [],
   "source": [
    "# Добавим некоторые другие признаки:\n",
    "\n",
    "# ratio of living area to full area\n",
    "train_df[\"ratio_life_sq_full_sq\"] = train_df[\"life_sq\"] / np.maximum(train_df[\"full_sq\"].astype(\"float\"), 1)\n",
    "test_df[\"ratio_life_sq_full_sq\"] = test_df[\"life_sq\"] / np.maximum(test_df[\"full_sq\"].astype(\"float\"),1)\n",
    "\n",
    "train_df.loc[(train_df[\"ratio_life_sq_full_sq\"] < 0), \"ratio_life_sq_full_sq\"] = 0\n",
    "train_df.loc[(train_df[\"ratio_life_sq_full_sq\"] > 1), \"ratio_life_sq_full_sq\"] = 1\n",
    "\n",
    "test_df.loc[(test_df[\"ratio_life_sq_full_sq\"] < 0), \"ratio_life_sq_full_sq\"] = 0\n",
    "test_df.loc[(test_df[\"ratio_life_sq_full_sq\"] > 1), \"ratio_life_sq_full_sq\"] = 1\n",
    "\n",
    "# ratio of kitchen area to living area \n",
    "train_df[\"ratio_kitch_sq_life_sq\"] = train_df[\"kitch_sq\"] / np.maximum(train_df[\"life_sq\"].astype(\"float\"),1)\n",
    "test_df[\"ratio_kitch_sq_life_sq\"] = test_df[\"kitch_sq\"] / np.maximum(test_df[\"life_sq\"].astype(\"float\"),1)\n",
    "\n",
    "train_df.loc[(train_df[\"ratio_kitch_sq_life_sq\"] < 0), \"ratio_kitch_sq_life_sq\"] = 0\n",
    "train_df.loc[(train_df[\"ratio_kitch_sq_life_sq\"] > 1), \"ratio_kitch_sq_life_sq\"] = 1\n",
    "\n",
    "test_df.loc[(test_df[\"ratio_kitch_sq_life_sq\"] < 0), \"ratio_kitch_sq_life_sq\"] = 0\n",
    "test_df.loc[(test_df[\"ratio_kitch_sq_life_sq\"] > 1), \"ratio_kitch_sq_life_sq\"] = 1\n",
    "\n",
    "# ratio of kitchen area to full area #\n",
    "train_df[\"ratio_kitch_sq_full_sq\"] = train_df[\"kitch_sq\"] / np.maximum(train_df[\"full_sq\"].astype(\"float\"),1)\n",
    "test_df[\"ratio_kitch_sq_full_sq\"] = test_df[\"kitch_sq\"] / np.maximum(test_df[\"full_sq\"].astype(\"float\"),1)\n",
    "\n",
    "train_df.loc[(train_df[\"ratio_kitch_sq_full_sq\"] < 0), \"ratio_kitch_sq_full_sq\"] = 0\n",
    "train_df.loc[(train_df[\"ratio_kitch_sq_full_sq\"] > 1), \"ratio_kitch_sq_full_sq\"] = 1\n",
    "\n",
    "test_df.loc[(test_df[\"ratio_kitch_sq_full_sq\"] < 0), \"ratio_kitch_sq_full_sq\"] = 0\n",
    "test_df.loc[(test_df[\"ratio_kitch_sq_full_sq\"] > 1), \"ratio_kitch_sq_full_sq\"] = 1\n",
    "\n",
    "# floor of the house to the total number of floors in the house \n",
    "train_df[\"ratio_floor_max_floor\"] = train_df[\"floor\"] / train_df[\"max_floor\"].astype(\"float\")\n",
    "test_df[\"ratio_floor_max_floor\"] = test_df[\"floor\"] / test_df[\"max_floor\"].astype(\"float\")\n",
    "\n",
    "# calculate room_size\n",
    "train_df['room_size'] = train_df['life_sq'] / train_df['num_room'].astype(float)\n",
    "test_df['room_size'] = test_df['life_sq'] / test_df['num_room'].astype(float)"
   ]
  },
  {
   "cell_type": "markdown",
   "id": "1422992e",
   "metadata": {},
   "source": [
    "### Input missing values"
   ]
  },
  {
   "cell_type": "code",
   "execution_count": 52,
   "id": "6b2da2ff",
   "metadata": {},
   "outputs": [],
   "source": [
    "#Заполним пропуски константой вне шкалы:\n",
    "train_df = train_df.fillna(-9999) \n",
    "test_df = test_df.fillna(-9999)"
   ]
  },
  {
   "cell_type": "markdown",
   "id": "44ad7716",
   "metadata": {},
   "source": [
    "### Modeling"
   ]
  },
  {
   "cell_type": "code",
   "execution_count": 53,
   "id": "45e38a6a",
   "metadata": {},
   "outputs": [],
   "source": [
    "#Задаем гиперпараметры модели:\n",
    "xgb_params = {\n",
    "        'eta': 0.05,\n",
    "        'max_depth': 5,\n",
    "        'subsample': 0.7,\n",
    "        'colsample_bytree': 0.7,\n",
    "        'objective': 'reg:linear',\n",
    "        'eval_metric': 'rmse',\n",
    "        'silent': 1\n",
    "             }"
   ]
  },
  {
   "cell_type": "code",
   "execution_count": 54,
   "id": "654eaa81",
   "metadata": {},
   "outputs": [],
   "source": [
    "#Делим на train/test выборки (out_of_time):\n",
    "train_X = train_df[train_df.timestamp < pd.to_datetime('2015-05-01')].drop(['id', 'timestamp', 'price'], axis=1)\n",
    "train_y = train_df[train_df.timestamp < pd.to_datetime('2015-05-01')].price\n",
    "val_X = train_df[train_df.timestamp >= pd.to_datetime('2015-05-01')].drop(['id','price','timestamp'], axis=1)\n",
    "val_y = train_df[train_df.timestamp >= pd.to_datetime('2015-05-01')].price"
   ]
  },
  {
   "cell_type": "code",
   "execution_count": 56,
   "id": "dd6f4ef1",
   "metadata": {},
   "outputs": [],
   "source": [
    "col_list = train_X.columns"
   ]
  },
  {
   "cell_type": "code",
   "execution_count": 57,
   "id": "e8515821",
   "metadata": {},
   "outputs": [],
   "source": [
    "xgb_train = xgb.DMatrix(train_X[col_list], train_y, feature_names = col_list, enable_categorical=True)\n",
    "xgb_test = xgb.DMatrix(val_X[col_list], val_y, feature_names = col_list, enable_categorical=True)"
   ]
  },
  {
   "cell_type": "code",
   "execution_count": 58,
   "id": "3b57b583",
   "metadata": {},
   "outputs": [],
   "source": [
    "evallist = [ (xgb_train, 'train'), (xgb_test, 'eval')]"
   ]
  },
  {
   "cell_type": "code",
   "execution_count": 59,
   "id": "d9ec7f9e",
   "metadata": {},
   "outputs": [
    {
     "name": "stdout",
     "output_type": "stream",
     "text": [
      "[17:33:40] WARNING: C:/Users/Administrator/workspace/xgboost-win64_release_1.4.0/src/objective/regression_obj.cu:171: reg:linear is now deprecated in favor of reg:squarederror.\n",
      "[17:33:40] WARNING: C:/Users/Administrator/workspace/xgboost-win64_release_1.4.0/src/learner.cc:573: \n",
      "Parameters: { \"silent\" } might not be used.\n",
      "\n",
      "  This may not be accurate due to some parameters are only used in language bindings but\n",
      "  passed down to XGBoost core.  Or some parameters are not used but slip through this\n",
      "  verification. Please open an issue if you find above cases.\n",
      "\n",
      "\n",
      "[0]\ttrain-rmse:8022675.00000\teval-rmse:9168881.00000\n",
      "[10]\ttrain-rmse:5261511.50000\teval-rmse:6183182.50000\n",
      "[20]\ttrain-rmse:3781171.75000\teval-rmse:4522934.50000\n",
      "[30]\ttrain-rmse:3026350.50000\teval-rmse:3620483.50000\n",
      "[40]\ttrain-rmse:2669634.00000\teval-rmse:3142093.00000\n",
      "[50]\ttrain-rmse:2501434.25000\teval-rmse:2895343.75000\n",
      "[60]\ttrain-rmse:2416111.25000\teval-rmse:2765525.75000\n",
      "[70]\ttrain-rmse:2364458.50000\teval-rmse:2674689.00000\n",
      "[80]\ttrain-rmse:2329243.25000\teval-rmse:2614301.50000\n",
      "[90]\ttrain-rmse:2300095.25000\teval-rmse:2574231.25000\n",
      "[100]\ttrain-rmse:2277534.00000\teval-rmse:2543673.50000\n",
      "[110]\ttrain-rmse:2253357.25000\teval-rmse:2510913.75000\n",
      "[120]\ttrain-rmse:2233209.75000\teval-rmse:2484992.00000\n",
      "[130]\ttrain-rmse:2216016.25000\teval-rmse:2472294.25000\n",
      "[140]\ttrain-rmse:2204068.75000\teval-rmse:2461653.50000\n",
      "[150]\ttrain-rmse:2187170.50000\teval-rmse:2451051.25000\n",
      "[160]\ttrain-rmse:2174459.00000\teval-rmse:2446326.25000\n",
      "[170]\ttrain-rmse:2160617.75000\teval-rmse:2433677.75000\n",
      "[180]\ttrain-rmse:2151428.75000\teval-rmse:2430422.00000\n",
      "[190]\ttrain-rmse:2140795.00000\teval-rmse:2423749.75000\n",
      "[200]\ttrain-rmse:2130893.50000\teval-rmse:2420819.00000\n",
      "[210]\ttrain-rmse:2119728.00000\teval-rmse:2414957.75000\n",
      "[220]\ttrain-rmse:2110152.50000\teval-rmse:2410797.50000\n",
      "[230]\ttrain-rmse:2100924.00000\teval-rmse:2408875.75000\n",
      "[240]\ttrain-rmse:2090050.00000\teval-rmse:2403533.75000\n",
      "[250]\ttrain-rmse:2082148.62500\teval-rmse:2395123.75000\n",
      "[260]\ttrain-rmse:2072937.12500\teval-rmse:2390299.25000\n",
      "[270]\ttrain-rmse:2063887.50000\teval-rmse:2389440.00000\n",
      "[280]\ttrain-rmse:2055068.62500\teval-rmse:2387220.50000\n",
      "[290]\ttrain-rmse:2044044.37500\teval-rmse:2380706.25000\n",
      "[299]\ttrain-rmse:2035769.87500\teval-rmse:2382107.25000\n"
     ]
    }
   ],
   "source": [
    "#Скорим на тесте:\n",
    "model = xgb.train(params = xgb_params,\n",
    "                  dtrain = xgb_train, \n",
    "                  num_boost_round = 300, \n",
    "                  evals = evallist, \n",
    "                  early_stopping_rounds = 10, \n",
    "                  verbose_eval = 10)"
   ]
  },
  {
   "cell_type": "code",
   "execution_count": 358,
   "id": "34f024ed",
   "metadata": {},
   "outputs": [],
   "source": [
    "#Функция отрисовки важности фичей:\n",
    "def draw_feature_importances(clf, top_k=10):\n",
    "    '''\n",
    "    Отрисовка важности переменных\n",
    "    '''\n",
    "    plt.figure(figsize=(10, 10))\n",
    "    \n",
    "    importances = dict(sorted(clf.get_score().items(), key=lambda x: x[1])[-top_k:])\n",
    "    y_pos = np.arange(len(importances))\n",
    "    \n",
    "    plt.barh(y_pos, list(importances.values()), align='center', color='green')\n",
    "    plt.yticks(y_pos, importances.keys(), fontsize=12)\n",
    "    plt.xticks(fontsize=12)\n",
    "    plt.xlabel('Feature importance', fontsize=15)\n",
    "    plt.title('Features importances, Sberbank Gender Prediction', fontsize=18)\n",
    "    plt.ylim(-0.5, len(importances) - 0.5)\n",
    "    plt.show()"
   ]
  },
  {
   "cell_type": "code",
   "execution_count": 359,
   "id": "983e5b41",
   "metadata": {},
   "outputs": [
    {
     "data": {
      "image/png": "[encoded data removed]",
      "text/plain": [
       "<Figure size 720x720 with 1 Axes>"
      ]
     },
     "metadata": {
      "needs_background": "light"
     },
     "output_type": "display_data"
    }
   ],
   "source": [
    "#Отрисовка важности фичей:\n",
    "draw_feature_importances(model, 10)"
   ]
  },
  {
   "cell_type": "markdown",
   "id": "a8e278fa",
   "metadata": {},
   "source": [
    "### Prediction"
   ]
  },
  {
   "cell_type": "code",
   "execution_count": 60,
   "id": "6abb302b",
   "metadata": {},
   "outputs": [],
   "source": [
    "#Убираем лишнее:\n",
    "train_X = train_df.drop(['id', 'timestamp', 'price'], axis=1)\n",
    "train_y = train_df.price\n",
    "test_X = test_df.drop(['id', 'timestamp'], axis=1)\n"
   ]
  },
  {
   "cell_type": "code",
   "execution_count": 61,
   "id": "2c973da8",
   "metadata": {},
   "outputs": [],
   "source": [
    "#Формируем выборки для модели:\n",
    "xgb_train = xgb.DMatrix(train_X[col_list], train_y, feature_names = col_list, enable_categorical=True)\n",
    "xgb_test = xgb.DMatrix(test_X[col_list], feature_names=col_list)"
   ]
  },
  {
   "cell_type": "code",
   "execution_count": 62,
   "id": "f735800c",
   "metadata": {},
   "outputs": [
    {
     "name": "stdout",
     "output_type": "stream",
     "text": [
      "[17:33:58] WARNING: C:/Users/Administrator/workspace/xgboost-win64_release_1.4.0/src/objective/regression_obj.cu:171: reg:linear is now deprecated in favor of reg:squarederror.\n",
      "[17:33:58] WARNING: C:/Users/Administrator/workspace/xgboost-win64_release_1.4.0/src/learner.cc:573: \n",
      "Parameters: { \"silent\" } might not be used.\n",
      "\n",
      "  This may not be accurate due to some parameters are only used in language bindings but\n",
      "  passed down to XGBoost core.  Or some parameters are not used but slip through this\n",
      "  verification. Please open an issue if you find above cases.\n",
      "\n",
      "\n"
     ]
    }
   ],
   "source": [
    "#Обучаем модель на всех данных:\n",
    "model = xgb.train(params = xgb_params,\n",
    "                  dtrain = xgb_train, \n",
    "                  num_boost_round = 1000)"
   ]
  },
  {
   "cell_type": "code",
   "execution_count": 63,
   "id": "44a4e3cb",
   "metadata": {},
   "outputs": [],
   "source": [
    "#Формируем вектор предсказаний:\n",
    "y_pred = model.predict(xgb_test)"
   ]
  },
  {
   "cell_type": "code",
   "execution_count": 65,
   "id": "7e6b40a1",
   "metadata": {},
   "outputs": [],
   "source": [
    "#Запишем файл с предсказанием:\n",
    "pd.DataFrame({'id': test_df.id,\n",
    "              'predicted_price': y_pred}).to_csv('prediction_csv', index=False)"
   ]
  }
 ],
 "metadata": {
  "kernelspec": {
   "display_name": "Python 3",
   "language": "python",
   "name": "python3"
  },
  "language_info": {
   "codemirror_mode": {
    "name": "ipython",
    "version": 3
   },
   "file_extension": ".py",
   "mimetype": "text/x-python",
   "name": "python",
   "nbconvert_exporter": "python",
   "pygments_lexer": "ipython3",
   "version": "3.8.8"
  }
 },
 "nbformat": 4,
 "nbformat_minor": 5
}
